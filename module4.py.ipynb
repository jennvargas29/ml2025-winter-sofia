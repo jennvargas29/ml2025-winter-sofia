{
 "cells": [
  {
   "cell_type": "code",
   "execution_count": 4,
   "id": "61060446",
   "metadata": {},
   "outputs": [
    {
     "name": "stdout",
     "output_type": "stream",
     "text": [
      "Enter the number of elements (N): 4\n",
      "Enter a number: 6\n",
      "Enter a number: 9\n",
      "Enter a number: 0\n",
      "Enter a number: 8\n",
      "Enter the number to find:  7\n",
      "Not found: -1\n"
     ]
    }
   ],
   "source": [
    "# get number of elements from the user\n",
    "N = int(input(\"Enter the number of elements (N): \"))\n",
    "\n",
    "# empty list to store \n",
    "numbers = []\n",
    "\n",
    "# N numbers one by one\n",
    "for i in range(N):\n",
    "    numbers.append(int(input(\"Enter a number: \")))\n",
    "\n",
    "# target from user\n",
    "X = int(input(\"Enter the number to find:  \"))\n",
    "\n",
    "# Check if X is in the list and print the position (1-based index)\n",
    "if X in numbers:\n",
    "    print(numbers.index(X) + 1) \n",
    "else:\n",
    "    print(\"Not found: -1\")\n"
   ]
  },
  {
   "cell_type": "code",
   "execution_count": 5,
   "id": "c389181f",
   "metadata": {},
   "outputs": [
    {
     "name": "stdout",
     "output_type": "stream",
     "text": [
      "Enter the number of elements (N): 4\n",
      "Enter a number: 3\n",
      "Enter a number: 7\n",
      "Enter a number: 4\n",
      "Enter a number: 1\n",
      "Enter the number to find:  4\n",
      "3\n"
     ]
    }
   ],
   "source": [
    "# get the number of elements from the user\n",
    "N = int(input(\"Enter the number of elements (N): \"))\n",
    "\n",
    "# empty list to store \n",
    "numbers = []\n",
    "\n",
    "# N numbers one by one\n",
    "for i in range(N):\n",
    "    numbers.append(int(input(\"Enter a number: \")))\n",
    "\n",
    "# target from user\n",
    "X = int(input(\"Enter the number to find:  \"))\n",
    "\n",
    "# Check if X is in the list and print the position (1-based index)\n",
    "if X in numbers:\n",
    "    print(numbers.index(X) + 1) \n",
    "else:\n",
    "    print(\"Not found: -1\")\n",
    "\n"
   ]
  },
  {
   "cell_type": "code",
   "execution_count": null,
   "id": "56e6469e",
   "metadata": {},
   "outputs": [],
   "source": []
  }
 ],
 "metadata": {
  "kernelspec": {
   "display_name": "Python 3 (ipykernel)",
   "language": "python",
   "name": "python3"
  },
  "language_info": {
   "codemirror_mode": {
    "name": "ipython",
    "version": 3
   },
   "file_extension": ".py",
   "mimetype": "text/x-python",
   "name": "python",
   "nbconvert_exporter": "python",
   "pygments_lexer": "ipython3",
   "version": "3.9.12"
  }
 },
 "nbformat": 4,
 "nbformat_minor": 5
}
