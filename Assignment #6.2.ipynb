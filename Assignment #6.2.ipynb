{
 "cells": [
  {
   "cell_type": "code",
   "execution_count": 3,
   "id": "7b6fcc9a",
   "metadata": {},
   "outputs": [
    {
     "name": "stdout",
     "output_type": "stream",
     "text": [
      "Enter the number of points (N): 3\n",
      "Enter the value of k: 2\n",
      "Enter x for point 1: 1.0\n",
      "Enter y for point 1: 2.0\n",
      "Enter x for point 2: 2.0\n",
      "Enter y for point 2: 4.0\n",
      "Enter x for point 3: 1.0\n",
      "Enter y for point 3: 2.0\n",
      "Enter the x value for prediction: 2.5\n",
      "The predicted y value for x = 2.5 is: 3.0\n"
     ]
    }
   ],
   "source": [
    "import numpy as np\n",
    "\n",
    "def knn_regression(x_input, points, k):\n",
    "    # Calculate the absolute differences between the input x and each point's x-value.\n",
    "    distances = np.abs(points[:, 0] - x_input)\n",
    "    \n",
    "    # Get the indices of the k closest points.\n",
    "    nearest_indices = np.argsort(distances)[:k]\n",
    "    \n",
    "    # Return the average y value of these k nearest neighbors.\n",
    "    return np.mean(points[nearest_indices, 1])\n",
    "\n",
    "def main():\n",
    "    N = int(input(\"Enter the number of points (N): \"))\n",
    "    k = int(input(\"Enter the value of k: \"))\n",
    "\n",
    "    if k > N:\n",
    "        print(\"Error: k cannot be greater than N.\")\n",
    "        return\n",
    "\n",
    "    points = []\n",
    "    for i in range(N):\n",
    "        x = float(input(f\"Enter x for point {i + 1}: \"))\n",
    "        y = float(input(f\"Enter y for point {i + 1}: \"))\n",
    "        points.append([x, y])\n",
    "    points = np.array(points)  # Convert list to a NumPy array\n",
    "\n",
    "    x_input = float(input(\"Enter the x value for prediction: \"))\n",
    "    y_pred = knn_regression(x_input, points, k)\n",
    "    print(f\"The predicted y value for x = {x_input} is: {y_pred}\")\n",
    "\n",
    "if __name__ == \"__main__\":\n",
    "    main()\n"
   ]
  }
 ],
 "metadata": {
  "kernelspec": {
   "display_name": "Python 3 (ipykernel)",
   "language": "python",
   "name": "python3"
  },
  "language_info": {
   "codemirror_mode": {
    "name": "ipython",
    "version": 3
   },
   "file_extension": ".py",
   "mimetype": "text/x-python",
   "name": "python",
   "nbconvert_exporter": "python",
   "pygments_lexer": "ipython3",
   "version": "3.9.12"
  }
 },
 "nbformat": 4,
 "nbformat_minor": 5
}
