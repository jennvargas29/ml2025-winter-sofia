{
 "cells": [
  {
   "cell_type": "code",
   "execution_count": 1,
   "id": "dd1f19bc",
   "metadata": {},
   "outputs": [
    {
     "name": "stdout",
     "output_type": "stream",
     "text": [
      "Enter the number of data points (N): 4\n",
      "Enter the data points (x, y) one by one:\n",
      "Enter x value for point 1 (0 or 1): 1\n",
      "Enter y value for point 1 (0 or 1): 0\n",
      "Enter x value for point 2 (0 or 1): 0\n",
      "Enter y value for point 2 (0 or 1): 0\n",
      "Enter x value for point 3 (0 or 1): 1\n",
      "Enter y value for point 3 (0 or 1): 1\n",
      "Enter x value for point 4 (0 or 1): 1\n",
      "Enter y value for point 4 (0 or 1): 1\n",
      "Precision: 1.00\n",
      "Recall: 0.67\n"
     ]
    }
   ],
   "source": [
    "import numpy as np\n",
    "from sklearn.metrics import precision_score, recall_score\n",
    "\n",
    "def main():\n",
    "    N = int(input(\"Enter the number of data points (N): \"))\n",
    "    \n",
    "    # Initialize numpy arrays for ground truth (X) and predictions (Y)\n",
    "    X = np.zeros(N, dtype=int)\n",
    "    Y = np.zeros(N, dtype=int)\n",
    "    \n",
    "    # Collecting N (x, y) points\n",
    "    print(\"Enter the data points (x, y) one by one:\")\n",
    "    for i in range(N):\n",
    "        x = int(input(f\"Enter x value for point {i+1} (0 or 1): \"))\n",
    "        y = int(input(f\"Enter y value for point {i+1} (0 or 1): \"))\n",
    "        X[i] = x\n",
    "        Y[i] = y\n",
    "    \n",
    "    # Compute precision and recall\n",
    "    precision = precision_score(X, Y)\n",
    "    recall = recall_score(X, Y)\n",
    "    \n",
    "    # Printing results\n",
    "    print(f\"Precision: {precision:.2f}\")\n",
    "    print(f\"Recall: {recall:.2f}\")\n",
    "\n",
    "if __name__ == \"__main__\":\n",
    "    main()\n"
   ]
  }
 ],
 "metadata": {
  "kernelspec": {
   "display_name": "Python 3 (ipykernel)",
   "language": "python",
   "name": "python3"
  },
  "language_info": {
   "codemirror_mode": {
    "name": "ipython",
    "version": 3
   },
   "file_extension": ".py",
   "mimetype": "text/x-python",
   "name": "python",
   "nbconvert_exporter": "python",
   "pygments_lexer": "ipython3",
   "version": "3.9.12"
  }
 },
 "nbformat": 4,
 "nbformat_minor": 5
}
